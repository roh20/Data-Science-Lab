{
 "cells": [
  {
   "cell_type": "code",
   "execution_count": 54,
   "metadata": {},
   "outputs": [],
   "source": [
    "import pandas as pd"
   ]
  },
  {
   "cell_type": "code",
   "execution_count": 55,
   "metadata": {},
   "outputs": [
    {
     "name": "stdout",
     "output_type": "stream",
     "text": [
      "<class 'pandas.core.frame.DataFrame'>\n",
      "RangeIndex: 6163 entries, 0 to 6162\n",
      "Data columns (total 2 columns):\n",
      "Sentiment        6163 non-null int64\n",
      "SentimentText    6162 non-null object\n",
      "dtypes: int64(1), object(1)\n",
      "memory usage: 96.4+ KB\n",
      "Dataset info:\n",
      " None\n",
      "\n",
      "Null Values info:\n",
      " Sentiment        0\n",
      "SentimentText    1\n",
      "dtype: int64\n",
      "\n",
      "After droping NaN Values info:\n",
      " Sentiment        0\n",
      "SentimentText    0\n",
      "dtype: int64\n"
     ]
    }
   ],
   "source": [
    "dataset = pd.read_csv('twitter data.csv')\n",
    "print('Dataset info:\\n',dataset.info())\n",
    "print('\\nNull Values info:\\n',dataset.isnull().sum())\n",
    "dataset = dataset.dropna()\n",
    "print('\\nAfter droping NaN Values info:\\n',dataset.isnull().sum())\n",
    "X = dataset.SentimentText\n",
    "y = dataset.Sentiment"
   ]
  },
  {
   "cell_type": "code",
   "execution_count": 56,
   "metadata": {},
   "outputs": [],
   "source": [
    "# Splitting the dataset into the Training set and Test set\n",
    "from sklearn.cross_validation import train_test_split\n",
    "X_train, X_test, y_train, y_test = train_test_split(X, y, test_size = 0.25, random_state = 0)"
   ]
  },
  {
   "cell_type": "code",
   "execution_count": 57,
   "metadata": {},
   "outputs": [],
   "source": [
    "#Corpus\n",
    "from sklearn.feature_extraction.text import CountVectorizer\n",
    "count_vect = CountVectorizer(min_df=100,stop_words='english',analyzer='word',lowercase=True)#,token_pattern='[^a-zA-Z]')\n",
    "X_train_counts = count_vect.fit_transform(X_train)"
   ]
  },
  {
   "cell_type": "code",
   "execution_count": 58,
   "metadata": {},
   "outputs": [],
   "source": [
    "#Using Tfid for more accuracy\n",
    "from sklearn.feature_extraction.text import TfidfTransformer\n",
    "tfidf_transformer = TfidfTransformer()\n",
    "X_train_tfidf = tfidf_transformer.fit_transform(X_train_counts)"
   ]
  },
  {
   "cell_type": "code",
   "execution_count": 59,
   "metadata": {},
   "outputs": [],
   "source": [
    "#Fitting model\n",
    "from sklearn.naive_bayes import MultinomialNB\n",
    "clf = MultinomialNB().fit(X_train_tfidf,y_train)"
   ]
  },
  {
   "cell_type": "code",
   "execution_count": 60,
   "metadata": {},
   "outputs": [],
   "source": [
    "#K-fold cross validation\n",
    "import sklearn.model_selection as ms\n",
    "seed=7\n",
    "kfold = ms.KFold(n_splits=10, random_state=seed)\n",
    "results = ms.cross_val_score(clf,X_train_tfidf , y_train, cv=kfold)"
   ]
  },
  {
   "cell_type": "code",
   "execution_count": 61,
   "metadata": {},
   "outputs": [
    {
     "name": "stdout",
     "output_type": "stream",
     "text": [
      "Accuracy: 71.391% (1.686%)\n"
     ]
    }
   ],
   "source": [
    "print(\"Accuracy: %.3f%% (%.3f%%)\" % (results.mean()*100.0, results.std()*100.0))"
   ]
  },
  {
   "cell_type": "code",
   "execution_count": 62,
   "metadata": {},
   "outputs": [
    {
     "data": {
      "text/plain": [
       "0.7144711226476315"
      ]
     },
     "execution_count": 62,
     "metadata": {},
     "output_type": "execute_result"
    }
   ],
   "source": [
    "#Predicting Results\n",
    "X_new_counts = count_vect.transform(X_test)\n",
    "X_new_tfidf = tfidf_transformer.transform(X_new_counts)\n",
    "predicted = clf.predict(X_new_tfidf)#use the tfidif or countvectorizer to do the predictions\n",
    "np.mean(predicted == y_test)"
   ]
  },
  {
   "cell_type": "code",
   "execution_count": 63,
   "metadata": {},
   "outputs": [],
   "source": [
    "predictions = []\n",
    "for prediction in predicted:\n",
    "    if prediction == 0:\n",
    "        predictions.append('Negative')\n",
    "    else:\n",
    "        predictions.append('Positive')"
   ]
  },
  {
   "cell_type": "code",
   "execution_count": 53,
   "metadata": {},
   "outputs": [
    {
     "data": {
      "image/png": "[encoded data removed]",
      "text/plain": [
       "<Figure size 432x288 with 1 Axes>"
      ]
     },
     "metadata": {},
     "output_type": "display_data"
    }
   ],
   "source": [
    "#Predictions Visualization\n",
    "import matplotlib.pyplot as plotter \n",
    "pieLabels = 'Positive Tweets','Negative Tweets'\n",
    "predictionPercentage = [predictions.count('Positive'),predictions.count('Negative')] \n",
    "figureObject, axesObject = plotter.subplots()\n",
    "\n",
    "axesObject.pie(predictionPercentage,\n",
    "        labels=pieLabels,\n",
    "        autopct='%1.2f',\n",
    "        startangle=90)\n",
    "axesObject.axis('equal')\n",
    "plotter.show()"
   ]
  },
  {
   "cell_type": "code",
   "execution_count": null,
   "metadata": {},
   "outputs": [],
   "source": []
  }
 ],
 "metadata": {
  "kernelspec": {
   "display_name": "Python 3",
   "language": "python",
   "name": "python3"
  },
  "language_info": {
   "codemirror_mode": {
    "name": "ipython",
    "version": 3
   },
   "file_extension": ".py",
   "mimetype": "text/x-python",
   "name": "python",
   "nbconvert_exporter": "python",
   "pygments_lexer": "ipython3",
   "version": "3.6.5"
  }
 },
 "nbformat": 4,
 "nbformat_minor": 2
}
