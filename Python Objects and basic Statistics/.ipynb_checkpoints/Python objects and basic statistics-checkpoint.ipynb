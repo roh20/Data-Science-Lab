{
 "cells": [
  {
   "cell_type": "code",
   "execution_count": 10,
   "metadata": {},
   "outputs": [
    {
     "name": "stdout",
     "output_type": "stream",
     "text": [
      "List:\n",
      "C\n"
     ]
    }
   ],
   "source": [
    "#List \n",
    "print('List:')\n",
    "languages = ['C', 'C++', 'Python']\n",
    "languages = languages[0]\n",
    "print(languages.title())"
   ]
  },
  {
   "cell_type": "code",
   "execution_count": 11,
   "metadata": {},
   "outputs": [
    {
     "name": "stdout",
     "output_type": "stream",
     "text": [
      "Tuple:\n",
      "The subjects is: data science\n",
      "\n",
      "The available subjects are:\n",
      "- data science\n",
      "- data structures\n",
      "- data mining\n"
     ]
    }
   ],
   "source": [
    "#Tuple\n",
    "print('Tuple:')\n",
    "subjects = ('data science', 'data structures', 'data mining')\n",
    "print(\"The subjects is: \" + subjects[0])\n",
    "\n",
    "print(\"\\nThe available subjects are:\")\n",
    "for subject in subjects:\n",
    "    print(\"- \" + subject)"
   ]
  },
  {
   "cell_type": "code",
   "execution_count": 12,
   "metadata": {},
   "outputs": [
    {
     "name": "stdout",
     "output_type": "stream",
     "text": [
      "Set: {'abc', 'xyz'}\n"
     ]
    }
   ],
   "source": [
    "#Set\n",
    "names = ['abc','xyz','abc','xyz']\n",
    "setName = set(names)\n",
    "print('Set:',setName)"
   ]
  },
  {
   "cell_type": "code",
   "execution_count": 14,
   "metadata": {},
   "outputs": [],
   "source": [
    "import statistics as st\n",
    "import numpy as np"
   ]
  },
  {
   "cell_type": "code",
   "execution_count": 20,
   "metadata": {},
   "outputs": [
    {
     "name": "stdout",
     "output_type": "stream",
     "text": [
      "[ 4  8 12 16 20 24 28 32 36 40 44 48 52 56 60 64 68 72 76 80 84 88 92 96]\n",
      "Mean: 50\n"
     ]
    }
   ],
   "source": [
    "\n",
    "#Mean\n",
    "arr = np.arange(4,100,4)\n",
    "print(arr)\n",
    "print('Mean:',st.mean(arr))"
   ]
  },
  {
   "cell_type": "code",
   "execution_count": 26,
   "metadata": {},
   "outputs": [
    {
     "name": "stdout",
     "output_type": "stream",
     "text": [
      "Mode: 20\n"
     ]
    }
   ],
   "source": [
    "#Mode\n",
    "print('Mode:',st.mode([10,20,30,20,50,60]))"
   ]
  },
  {
   "cell_type": "code",
   "execution_count": 28,
   "metadata": {},
   "outputs": [
    {
     "name": "stdout",
     "output_type": "stream",
     "text": [
      "Median: 50.0\n"
     ]
    }
   ],
   "source": [
    "#Median\n",
    "print('Median:',st.median(arr))"
   ]
  },
  {
   "cell_type": "code",
   "execution_count": 29,
   "metadata": {},
   "outputs": [
    {
     "name": "stdout",
     "output_type": "stream",
     "text": [
      "Standard Deviation 28.284271247461902\n"
     ]
    }
   ],
   "source": [
    "#Standard Deviation\n",
    "print('Standard Deviation',st.stdev(arr))"
   ]
  },
  {
   "cell_type": "code",
   "execution_count": 30,
   "metadata": {},
   "outputs": [
    {
     "name": "stdout",
     "output_type": "stream",
     "text": [
      "Variance: 800\n"
     ]
    }
   ],
   "source": [
    "#Variance\n",
    "print('Variance:',st.variance(arr))"
   ]
  },
  {
   "cell_type": "code",
   "execution_count": 33,
   "metadata": {},
   "outputs": [
    {
     "name": "stdout",
     "output_type": "stream",
     "text": [
      "\n",
      "Kurtosis for normal distribution : -1.3693926896327775\n",
      "\n",
      "Kurtosis for normal distribution : 1.6306073103672225\n",
      "\n",
      "Kurtosis for normal distribution : -1.3693926896327775\n"
     ]
    },
    {
     "data": {
      "image/png": "[encoded data removed]",
      "text/plain": [
       "<Figure size 432x288 with 1 Axes>"
      ]
     },
     "metadata": {},
     "output_type": "display_data"
    }
   ],
   "source": [
    "from scipy.stats import kurtosis \n",
    "import numpy as np  \n",
    "import pylab as p  \n",
    "  \n",
    "x1 = np.linspace( -3, 3, 1000 ) \n",
    "y1 = 1./(np.sqrt(2.*np.pi)) * np.exp( -.5*(x1)**2  ) \n",
    "  \n",
    "p.plot(x1, y1, '*') \n",
    "  \n",
    "  \n",
    "print('\\nKurtosis for normal distribution :',kurtosis(y1)) \n",
    "  \n",
    "print('\\nKurtosis for normal distribution :',kurtosis(y1, fisher = False)) \n",
    "  \n",
    "print( '\\nKurtosis for normal distribution :',kurtosis(y1, fisher = True)) "
   ]
  },
  {
   "cell_type": "code",
   "execution_count": 39,
   "metadata": {},
   "outputs": [],
   "source": [
    "#skewness of data\n",
    "from scipy.stats import skew"
   ]
  },
  {
   "cell_type": "code",
   "execution_count": 44,
   "metadata": {},
   "outputs": [
    {
     "name": "stdout",
     "output_type": "stream",
     "text": [
      "Skew for arr: 0.0\n"
     ]
    }
   ],
   "source": [
    "print('Skew for arr:',skew(arr))"
   ]
  },
  {
   "cell_type": "code",
   "execution_count": 49,
   "metadata": {},
   "outputs": [
    {
     "name": "stdout",
     "output_type": "stream",
     "text": [
      "Skew for [2, 8, 0, 4, 1, 9, 9, 0: 0.2650554122698573\n"
     ]
    }
   ],
   "source": [
    "print('Skew for [2, 8, 0, 4, 1, 9, 9, 0:',skew([2, 8, 0, 4, 1, 9, 9, 0]))"
   ]
  },
  {
   "cell_type": "code",
   "execution_count": 42,
   "metadata": {},
   "outputs": [
    {
     "name": "stdout",
     "output_type": "stream",
     "text": [
      "          Subjects  Marks\n",
      "0                C     80\n",
      "1              C++     74\n",
      "2  Data Structures     75\n",
      "3              TOC     60\n"
     ]
    }
   ],
   "source": [
    "import pandas as pd\n",
    "data = {'Subjects':['C', 'C++', 'Data Structures', 'TOC'],'Marks':[80,74,75,60]}\n",
    "df = pd.DataFrame(data)\n",
    "print(df)"
   ]
  }
 ],
 "metadata": {
  "kernelspec": {
   "display_name": "Python 3",
   "language": "python",
   "name": "python3"
  },
  "language_info": {
   "codemirror_mode": {
    "name": "ipython",
    "version": 3
   },
   "file_extension": ".py",
   "mimetype": "text/x-python",
   "name": "python",
   "nbconvert_exporter": "python",
   "pygments_lexer": "ipython3",
   "version": "3.6.5"
  }
 },
 "nbformat": 4,
 "nbformat_minor": 4
}
